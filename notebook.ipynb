{
 "cells": [
  {
   "cell_type": "code",
   "execution_count": 4,
   "metadata": {},
   "outputs": [],
   "source": [
    "import numpy as np\n",
    "import pandas as pd\n",
    "import matplotlib.pyplot as plt\n",
    "import os\n",
    "import json\n",
    "from collections import defaultdict\n",
    "import pickle\n"
   ]
  },
  {
   "cell_type": "code",
   "execution_count": 7,
   "metadata": {},
   "outputs": [
    {
     "name": "stdout",
     "output_type": "stream",
     "text": [
      "['albert-large-v2-dev', 'albert-large-v2-train', 'bert-base-dev', 'bert-base-train', 'bert-large-dev', 'bert-large-train', 'roberta-large-dev', 'roberta-large-train']\n",
      "albert-large-v2 dev\n"
     ]
    },
    {
     "name": "stderr",
     "output_type": "stream",
     "text": [
      "/home/alvin/miniconda3/envs/squad/lib/python3.6/site-packages/tensorflow/python/framework/dtypes.py:526: FutureWarning: Passing (type, 1) or '1type' as a synonym of type is deprecated; in a future version of numpy, it will be understood as (type, (1,)) / '(1,)type'.\n",
      "  _np_qint8 = np.dtype([(\"qint8\", np.int8, 1)])\n",
      "/home/alvin/miniconda3/envs/squad/lib/python3.6/site-packages/tensorflow/python/framework/dtypes.py:527: FutureWarning: Passing (type, 1) or '1type' as a synonym of type is deprecated; in a future version of numpy, it will be understood as (type, (1,)) / '(1,)type'.\n",
      "  _np_quint8 = np.dtype([(\"quint8\", np.uint8, 1)])\n",
      "/home/alvin/miniconda3/envs/squad/lib/python3.6/site-packages/tensorflow/python/framework/dtypes.py:528: FutureWarning: Passing (type, 1) or '1type' as a synonym of type is deprecated; in a future version of numpy, it will be understood as (type, (1,)) / '(1,)type'.\n",
      "  _np_qint16 = np.dtype([(\"qint16\", np.int16, 1)])\n",
      "/home/alvin/miniconda3/envs/squad/lib/python3.6/site-packages/tensorflow/python/framework/dtypes.py:529: FutureWarning: Passing (type, 1) or '1type' as a synonym of type is deprecated; in a future version of numpy, it will be understood as (type, (1,)) / '(1,)type'.\n",
      "  _np_quint16 = np.dtype([(\"quint16\", np.uint16, 1)])\n",
      "/home/alvin/miniconda3/envs/squad/lib/python3.6/site-packages/tensorflow/python/framework/dtypes.py:530: FutureWarning: Passing (type, 1) or '1type' as a synonym of type is deprecated; in a future version of numpy, it will be understood as (type, (1,)) / '(1,)type'.\n",
      "  _np_qint32 = np.dtype([(\"qint32\", np.int32, 1)])\n",
      "/home/alvin/miniconda3/envs/squad/lib/python3.6/site-packages/tensorflow/python/framework/dtypes.py:535: FutureWarning: Passing (type, 1) or '1type' as a synonym of type is deprecated; in a future version of numpy, it will be understood as (type, (1,)) / '(1,)type'.\n",
      "  np_resource = np.dtype([(\"resource\", np.ubyte, 1)])\n"
     ]
    },
    {
     "name": "stdout",
     "output_type": "stream",
     "text": [
      "albert-large-v2 train\n",
      "bert-base dev\n",
      "bert-base train\n",
      "bert-large dev\n",
      "bert-large train\n",
      "roberta-large dev\n",
      "roberta-large train\n"
     ]
    }
   ],
   "source": [
    "root_dir = './save/output'\n",
    "\n",
    "dirs = [f for f in os.listdir(root_dir) ]\n",
    "dirs.sort()\n",
    "print(dirs)\n",
    "\n",
    "features_train = []\n",
    "features_dev = []\n",
    "\n",
    "all_results_train = []\n",
    "all_results_dev = []\n",
    "\n",
    "tokenizers_train = []\n",
    "tokenizers_dev = []\n",
    "\n",
    "for model_dir in dirs:\n",
    "    model_name = ''\n",
    "    tokenizer = None\n",
    "    all_results = None\n",
    "    features = None\n",
    "    \n",
    "    \n",
    "    with open(os.path.join(root_dir, model_dir, 'config.json')) as f:\n",
    "        config = json.load(f)\n",
    "        model_name = config['model_name'].replace('-dev', '').replace('-train', '').replace('-01', '')\n",
    "    \n",
    "    print(model_name, config['type'])\n",
    "    \n",
    "    with open(os.path.join(root_dir, model_dir, 'features.pkl'), 'rb') as f:\n",
    "        features = pickle.load(f)\n",
    "        \n",
    "    with open(os.path.join(root_dir, model_dir, 'all_results.pkl'), 'rb') as f:\n",
    "        all_results = pickle.load(f)\n",
    "    \n",
    "            \n",
    "    with open(os.path.join(root_dir, model_dir, 'tokenizer.pkl'), 'rb') as f:\n",
    "        tokenizer = pickle.load(f)\n",
    "        \n",
    "    if config['type'] == 'train':\n",
    "        features_train.append(features)\n",
    "        all_results_train.append(all_results)\n",
    "        tokenizers_train.append(tokenizer)\n",
    "    elif config['type'] == 'dev':\n",
    "        features_dev.append(features)\n",
    "        all_results_dev.append(all_results)\n",
    "        tokenizers_dev.append(tokenizer)\n",
    "        "
   ]
  },
  {
   "cell_type": "code",
   "execution_count": 8,
   "metadata": {},
   "outputs": [],
   "source": [
    "# bewared of OOM issues\n",
    "# train_to_save = [features_train, all_results_train, tokenizers_train]\n",
    "with open(os.path.join(root_dir, 'saved_data_train.pkl'), 'wb') as f:\n",
    "    pickle.dump([features_train, all_results_train, tokenizers_train], f)"
   ]
  },
  {
   "cell_type": "code",
   "execution_count": 9,
   "metadata": {
    "scrolled": true
   },
   "outputs": [
    {
     "ename": "NameError",
     "evalue": "name 'train_to_save' is not defined",
     "output_type": "error",
     "traceback": [
      "\u001b[0;31m---------------------------------------------------------------------------\u001b[0m",
      "\u001b[0;31mNameError\u001b[0m                                 Traceback (most recent call last)",
      "\u001b[0;32m<ipython-input-9-3728ec68bc47>\u001b[0m in \u001b[0;36m<module>\u001b[0;34m\u001b[0m\n\u001b[0;32m----> 1\u001b[0;31m \u001b[0;32mdel\u001b[0m \u001b[0mtrain_to_save\u001b[0m\u001b[0;34m\u001b[0m\u001b[0;34m\u001b[0m\u001b[0m\n\u001b[0m",
      "\u001b[0;31mNameError\u001b[0m: name 'train_to_save' is not defined"
     ]
    }
   ],
   "source": [
    "del train_to_save "
   ]
  },
  {
   "cell_type": "code",
   "execution_count": 10,
   "metadata": {},
   "outputs": [],
   "source": [
    "dev_to_save = [features_dev, all_results_dev, tokenizers_dev]\n",
    "with open(os.path.join(root_dir, 'saved_data_dev.pkl'), 'wb') as f:\n",
    "    pickle.dump(dev_to_save, f)"
   ]
  },
  {
   "cell_type": "markdown",
   "metadata": {},
   "source": [
    "## Output for Pure Start End Scores"
   ]
  },
  {
   "cell_type": "code",
   "execution_count": 3,
   "metadata": {},
   "outputs": [],
   "source": [
    "\n",
    "dir = './runs'\n",
    "directory = os.fsencode('./runs')\n",
    "\n",
    "names = []\n",
    "dfs = []\n",
    "for file in os.listdir(directory):\n",
    "    filename = os.fsdecode(file)\n",
    "    df = pd.read_csv(os.path.join(dir, filename))\n",
    "    dfs.append(df)\n",
    "    names.append(filename)\n"
   ]
  },
  {
   "cell_type": "code",
   "execution_count": null,
   "metadata": {
    "scrolled": true
   },
   "outputs": [],
   "source": [
    "fig, ax = plt.subplots()\n",
    "fig.set_size_inches(14, 6)\n",
    "ax.set(xlabel='Steps', ylabel='Eval F1', title='Eval F1 vs. steps')\n",
    "ax.grid()\n",
    "\n",
    "for idx, df in enumerate(dfs):\n",
    "    label = names[idx].split('-0')[0][4:]\n",
    "    plt.plot(df['Step'], df['Value'], label=label)\n",
    "ax.legend()\n",
    "axes = plt.gca()\n",
    "plt.yticks(np.arange(64, 92, 2))\n",
    "# fig.savefig(\"eval_f1_runs.png\")"
   ]
  },
  {
   "cell_type": "code",
   "execution_count": 2,
   "metadata": {},
   "outputs": [],
   "source": [
    "root_dir = './save/output'\n",
    "directory = os.fsencode(root_dir)\n",
    "\n",
    "d = defaultdict(defaultdict)\n",
    "\n",
    "for dir in os.listdir(directory):\n",
    "    model_dir = os.fsdecode(dir)\n",
    "    with open(os.path.join(root_dir, model_dir, 'model_output.json')) as f:\n",
    "        x = json.load(f)\n",
    "        model_name = x['model_name'].replace('-dev', '').replace('-train', '').replace('-01', '')\n",
    "        d[model_name][x['type']] = np.array(x['output'])\n",
    "        del x\n",
    "    \n",
    "\n"
   ]
  },
  {
   "cell_type": "code",
   "execution_count": 3,
   "metadata": {},
   "outputs": [
    {
     "name": "stdout",
     "output_type": "stream",
     "text": [
      "albert-xxlarge-v1\n",
      "albert-large-v2\n",
      "roberta-large\n",
      "bert-large\n"
     ]
    }
   ],
   "source": [
    "train = []\n",
    "dev = []\n",
    "for k, v in d.items():\n",
    "    train.append(v['train'])\n",
    "    dev.append(v['dev'])\n",
    "    print(k)\n",
    "    \n",
    "    \n"
   ]
  },
  {
   "cell_type": "code",
   "execution_count": 4,
   "metadata": {},
   "outputs": [
    {
     "data": {
      "text/plain": [
       "(130319, 4, 2, 256)"
      ]
     },
     "execution_count": 4,
     "metadata": {},
     "output_type": "execute_result"
    }
   ],
   "source": [
    "np_train = np.array(train).transpose(1, 0, 2, 3)\n",
    "np_train.shape"
   ]
  },
  {
   "cell_type": "code",
   "execution_count": 5,
   "metadata": {},
   "outputs": [
    {
     "data": {
      "text/plain": [
       "(6078, 4, 2, 256)"
      ]
     },
     "execution_count": 5,
     "metadata": {},
     "output_type": "execute_result"
    }
   ],
   "source": [
    "np_dev = np.array(dev).transpose(1, 0, 2, 3)\n",
    "np_dev.shape"
   ]
  },
  {
   "cell_type": "code",
   "execution_count": 8,
   "metadata": {},
   "outputs": [],
   "source": [
    "import h5py\n",
    "with h5py.File(os.path.join(root_dir, 'model_output.h5'), 'w') as hf:\n",
    "    hf.create_dataset(\"model_output_train\",  data=np_train)\n",
    "    hf.create_dataset(\"model_output_dev\",  data=np_dev)"
   ]
  },
  {
   "cell_type": "code",
   "execution_count": 10,
   "metadata": {},
   "outputs": [
    {
     "name": "stdout",
     "output_type": "stream",
     "text": [
      "(130319, 4, 2, 256) (6078, 4, 2, 256)\n"
     ]
    }
   ],
   "source": [
    "with h5py.File(os.path.join(root_dir, 'model_output.h5'), 'r') as hf:\n",
    "    data_train = hf['model_output_train'][:]\n",
    "    data_dev = hf['model_output_dev'][:]\n",
    "    print(data_train.shape, data_dev.shape)"
   ]
  }
 ],
 "metadata": {
  "kernelspec": {
   "display_name": "squad",
   "language": "python",
   "name": "squad"
  },
  "language_info": {
   "codemirror_mode": {
    "name": "ipython",
    "version": 3
   },
   "file_extension": ".py",
   "mimetype": "text/x-python",
   "name": "python",
   "nbconvert_exporter": "python",
   "pygments_lexer": "ipython3",
   "version": "3.6.7"
  }
 },
 "nbformat": 4,
 "nbformat_minor": 4
}
