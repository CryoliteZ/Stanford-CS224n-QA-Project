{
 "cells": [
  {
   "cell_type": "code",
   "execution_count": 1,
   "metadata": {},
   "outputs": [],
   "source": [
    "import numpy as np\n",
    "import pandas as pd\n",
    "import matplotlib.pyplot as plt\n",
    "import os\n",
    "import json\n",
    "from collections import defaultdict"
   ]
  },
  {
   "cell_type": "code",
   "execution_count": 3,
   "metadata": {},
   "outputs": [],
   "source": [
    "\n",
    "dir = './runs'\n",
    "directory = os.fsencode('./runs')\n",
    "\n",
    "names = []\n",
    "dfs = []\n",
    "for file in os.listdir(directory):\n",
    "    filename = os.fsdecode(file)\n",
    "    df = pd.read_csv(os.path.join(dir, filename))\n",
    "    dfs.append(df)\n",
    "    names.append(filename)\n"
   ]
  },
  {
   "cell_type": "code",
   "execution_count": null,
   "metadata": {
    "scrolled": true
   },
   "outputs": [],
   "source": [
    "fig, ax = plt.subplots()\n",
    "fig.set_size_inches(14, 6)\n",
    "ax.set(xlabel='Steps', ylabel='Eval F1', title='Eval F1 vs. steps')\n",
    "ax.grid()\n",
    "\n",
    "for idx, df in enumerate(dfs):\n",
    "    label = names[idx].split('-0')[0][4:]\n",
    "    plt.plot(df['Step'], df['Value'], label=label)\n",
    "ax.legend()\n",
    "axes = plt.gca()\n",
    "plt.yticks(np.arange(64, 92, 2))\n",
    "# fig.savefig(\"eval_f1_runs.png\")"
   ]
  },
  {
   "cell_type": "code",
   "execution_count": 2,
   "metadata": {},
   "outputs": [],
   "source": [
    "root_dir = './save/output'\n",
    "directory = os.fsencode(root_dir)\n",
    "\n",
    "d = defaultdict(defaultdict)\n",
    "\n",
    "for dir in os.listdir(directory):\n",
    "    model_dir = os.fsdecode(dir)\n",
    "    with open(os.path.join(root_dir, model_dir, 'model_output.json')) as f:\n",
    "        x = json.load(f)\n",
    "        model_name = x['model_name'].replace('-dev', '').replace('-train', '').replace('-01', '')\n",
    "        d[model_name][x['type']] = np.array(x['output'])\n",
    "        del x\n",
    "    \n",
    "\n"
   ]
  },
  {
   "cell_type": "code",
   "execution_count": 3,
   "metadata": {},
   "outputs": [
    {
     "name": "stdout",
     "output_type": "stream",
     "text": [
      "albert-xxlarge-v1\n",
      "albert-large-v2\n",
      "roberta-large\n",
      "bert-large\n"
     ]
    }
   ],
   "source": [
    "train = []\n",
    "dev = []\n",
    "for k, v in d.items():\n",
    "    train.append(v['train'])\n",
    "    dev.append(v['dev'])\n",
    "    print(k)\n",
    "    \n",
    "    \n"
   ]
  },
  {
   "cell_type": "code",
   "execution_count": 4,
   "metadata": {},
   "outputs": [
    {
     "data": {
      "text/plain": [
       "(130319, 4, 2, 256)"
      ]
     },
     "execution_count": 4,
     "metadata": {},
     "output_type": "execute_result"
    }
   ],
   "source": [
    "np_train = np.array(train).transpose(1, 0, 2, 3)\n",
    "np_train.shape"
   ]
  },
  {
   "cell_type": "code",
   "execution_count": 5,
   "metadata": {},
   "outputs": [
    {
     "data": {
      "text/plain": [
       "(6078, 4, 2, 256)"
      ]
     },
     "execution_count": 5,
     "metadata": {},
     "output_type": "execute_result"
    }
   ],
   "source": [
    "np_dev = np.array(dev).transpose(1, 0, 2, 3)\n",
    "np_dev.shape"
   ]
  },
  {
   "cell_type": "code",
   "execution_count": 8,
   "metadata": {},
   "outputs": [],
   "source": [
    "import h5py\n",
    "with h5py.File(os.path.join(root_dir, 'model_output.h5'), 'w') as hf:\n",
    "    hf.create_dataset(\"model_output_train\",  data=np_train)\n",
    "    hf.create_dataset(\"model_output_dev\",  data=np_dev)"
   ]
  },
  {
   "cell_type": "code",
   "execution_count": 10,
   "metadata": {},
   "outputs": [
    {
     "name": "stdout",
     "output_type": "stream",
     "text": [
      "(130319, 4, 2, 256) (6078, 4, 2, 256)\n"
     ]
    }
   ],
   "source": [
    "with h5py.File(os.path.join(root_dir, 'model_output.h5'), 'r') as hf:\n",
    "    data_train = hf['model_output_train'][:]\n",
    "    data_dev = hf['model_output_dev'][:]\n",
    "    print(data_train.shape, data_dev.shape)"
   ]
  }
 ],
 "metadata": {
  "kernelspec": {
   "display_name": "squad",
   "language": "python",
   "name": "squad"
  },
  "language_info": {
   "codemirror_mode": {
    "name": "ipython",
    "version": 3
   },
   "file_extension": ".py",
   "mimetype": "text/x-python",
   "name": "python",
   "nbconvert_exporter": "python",
   "pygments_lexer": "ipython3",
   "version": "3.6.7"
  }
 },
 "nbformat": 4,
 "nbformat_minor": 4
}
